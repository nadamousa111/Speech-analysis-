{
  "nbformat": 4,
  "nbformat_minor": 0,
  "metadata": {
    "colab": {
      "provenance": []
    },
    "kernelspec": {
      "name": "python3",
      "display_name": "Python 3"
    },
    "language_info": {
      "name": "python"
    }
  },
  "cells": [
    {
      "cell_type": "code",
      "source": [
        "import scipy.io.wavfile as wavfile\n",
        "import numpy as np\n",
        "from matplotlib import pyplot as plt\n",
        "from scipy import signal\n",
        "\n",
        "s_rate, signal = wavfile.read(\"/content/untitled.wav\")\n",
        "\n",
        "plt.plot( signal)\n"
      ],
      "metadata": {
        "id": "yJFlChJxDsyu",
        "colab": {
          "base_uri": "https://localhost:8080/",
          "height": 282
        },
        "outputId": "7359a16e-361d-4c91-e6ea-d4d35ba91f0f"
      },
      "execution_count": null,
      "outputs": [
        {
          "output_type": "execute_result",
          "data": {
            "text/plain": [
              "[<matplotlib.lines.Line2D at 0x7f0268105c10>]"
            ]
          },
          "metadata": {},
          "execution_count": 3
        },
        {
          "output_type": "display_data",
          "data": {
            "text/plain": [
              "<Figure size 432x288 with 1 Axes>"
            ],
            "image/png": "[encoded data removed]"
          },
          "metadata": {
            "needs_background": "light"
          }
        }
      ]
    },
    {
      "cell_type": "markdown",
      "source": [
        "# Framing"
      ],
      "metadata": {
        "id": "3w03K400YN51"
      }
    },
    {
      "cell_type": "code",
      "source": [
        "def framing(signal, s_rate, frame_sizeSec, overlap_size ,windowType):\n",
        "  datalen = len(signal)\n",
        "  frame_size = round((frame_sizeSec )* (s_rate))\n",
        "  framNum = round(datalen / (s_rate * frame_sizeSec))\n",
        "  print(framNum)\n",
        "\n",
        "  shift = 0\n",
        "  if overlap_size != 0:\n",
        "        shift = round(overlap_size * s_rate)\n",
        "        framNum = np.ceil((datalen -frame_size) / shift)\n",
        "  matrix = np.empty(( int(framNum), int(frame_size) ))\n",
        "  Emat = np.empty(( int(framNum), int(frame_size) ))\n",
        "\n",
        "  for i in range(round(framNum)):\n",
        "        if i == 0:\n",
        "            matrix[i] = signal[frame_size*i :frame_size*(i+1)]\n",
        "            Emat[i] = (matrix[i])** 2\n",
        "        else:\n",
        "            matrix[i] = signal[(frame_size*i) - shift*i :(frame_size*(i+1)) - shift*i]\n",
        "            Emat[i] = (matrix[i])** 2\n",
        "\n",
        "        Emat[i] += Emat[i]\n",
        "\n",
        "  if windowType == 'hamming':\n",
        "    matrix[i]+=np.hamming(frame_size)\n",
        "  elif  windowType == 'hanning':\n",
        "    matrix[i]+=np.hanning(frame_size)\n",
        "\n",
        "  print(len(matrix))\n",
        "  print(len(Emat))\n",
        "  plt.plot( Emat)\n",
        "\n",
        "  return matrix"
      ],
      "metadata": {
        "id": "8OY304HWe7_8"
      },
      "execution_count": null,
      "outputs": []
    },
    {
      "cell_type": "code",
      "source": [
        "framing_matrix = framing(signal, s_rate,0.015 ,0.5*0.015, \"hanning\")"
      ],
      "metadata": {
        "id": "RgS33xN_CR7_",
        "colab": {
          "base_uri": "https://localhost:8080/",
          "height": 328
        },
        "outputId": "e77a334d-f367-4f05-9c4e-7edc8012076d"
      },
      "execution_count": null,
      "outputs": [
        {
          "output_type": "stream",
          "name": "stdout",
          "text": [
            "241\n",
            "480\n",
            "480\n"
          ]
        },
        {
          "output_type": "display_data",
          "data": {
            "text/plain": [
              "<Figure size 432x288 with 1 Axes>"
            ],
            "image/png": "[encoded data removed]"
          },
          "metadata": {
            "needs_background": "light"
          }
        }
      ]
    },
    {
      "cell_type": "code",
      "source": [
        "framing_matrix"
      ],
      "metadata": {
        "colab": {
          "base_uri": "https://localhost:8080/"
        },
        "id": "IP54Lqp1MNnY",
        "outputId": "b523d70a-cf4c-4bef-cb09-e55fbab0ed76"
      },
      "execution_count": null,
      "outputs": [
        {
          "output_type": "execute_result",
          "data": {
            "text/plain": [
              "array([[   0.        ,    0.        ,    0.        , ...,    1.        ,\n",
              "          -1.        ,    1.        ],\n",
              "       [  -3.        ,    3.        ,   -2.        , ...,    1.        ,\n",
              "          -1.        ,   -1.        ],\n",
              "       [   1.        ,    0.        ,    2.        , ...,    3.        ,\n",
              "          -3.        ,    1.        ],\n",
              "       ...,\n",
              "       [  37.        ,   49.        ,   57.        , ...,   55.        ,\n",
              "          45.        ,   49.        ],\n",
              "       [ -17.        ,  -13.        ,  -10.        , ..., -127.        ,\n",
              "        -128.        , -130.        ],\n",
              "       [  44.08      ,   41.08002078,   37.08008312, ...,  150.08008312,\n",
              "         146.08002078,  159.08      ]])"
            ]
          },
          "metadata": {},
          "execution_count": 135
        }
      ]
    },
    {
      "cell_type": "code",
      "source": [
        "rFramingMatrix = framing_matrix.flatten()\n",
        "plt.plot(rFramingMatrix)"
      ],
      "metadata": {
        "colab": {
          "base_uri": "https://localhost:8080/",
          "height": 283
        },
        "id": "mIHbzAT7sdpT",
        "outputId": "70db5b9f-62d1-4031-e996-6018e6fc6cf1"
      },
      "execution_count": null,
      "outputs": [
        {
          "output_type": "execute_result",
          "data": {
            "text/plain": [
              "[<matplotlib.lines.Line2D at 0x7f16a4232370>]"
            ]
          },
          "metadata": {},
          "execution_count": 136
        },
        {
          "output_type": "display_data",
          "data": {
            "text/plain": [
              "<Figure size 432x288 with 1 Axes>"
            ],
            "image/png": "[encoded data removed]"
          },
          "metadata": {
            "needs_background": "light"
          }
        }
      ]
    },
    {
      "cell_type": "markdown",
      "source": [
        "# Energy"
      ],
      "metadata": {
        "id": "2eKpYET8YbQP"
      }
    },
    {
      "cell_type": "code",
      "source": [
        "def EnergyCalc(frm):\n",
        "    en = 0\n",
        "    for i in frm:\n",
        "        en +=(i**2)\n",
        "    return en"
      ],
      "metadata": {
        "id": "x68NhSzWSrYj"
      },
      "execution_count": null,
      "outputs": []
    },
    {
      "cell_type": "code",
      "source": [
        "energy = np.zeros(framing_matrix.shape[0])\n",
        "for i in range(framing_matrix.shape[0]):\n",
        "    energy[i] = EnergyCalc(framing_matrix[i])\n",
        "\n",
        "print(len(energy))\n",
        "print(energy)"
      ],
      "metadata": {
        "colab": {
          "base_uri": "https://localhost:8080/"
        },
        "id": "quY3g-XhW5F7",
        "outputId": "ff3fca9d-e2d4-4fed-bed2-8990825795d2"
      },
      "execution_count": null,
      "outputs": [
        {
          "output_type": "stream",
          "name": "stdout",
          "text": [
            "480\n",
            "[3.08600000e+03 3.03600000e+03 3.29600000e+03 3.39800000e+03\n",
            " 3.48600000e+03 4.31200000e+03 6.85600000e+03 8.96100000e+03\n",
            " 7.69500000e+03 6.56100000e+03 8.42500000e+03 1.02610000e+04\n",
            " 2.19560000e+04 3.81660000e+04 9.04600000e+04 1.42958000e+05\n",
            " 2.06082000e+05 2.13128000e+05 4.26243000e+05 7.05197000e+05\n",
            " 7.19876000e+05 6.06068000e+05 7.83595000e+05 1.08989300e+06\n",
            " 1.12632600e+06 1.24656200e+06 1.00501300e+06 1.76401500e+06\n",
            " 2.29442000e+06 2.10822400e+06 2.24728700e+06 1.79548900e+06\n",
            " 1.56981200e+06 2.19741700e+06 2.00868800e+06 9.45108000e+05\n",
            " 6.54007000e+05 5.21534000e+05 5.94535000e+05 8.02698000e+05\n",
            " 1.06090100e+06 1.06772500e+06 1.27310800e+06 1.49519600e+06\n",
            " 1.47390800e+06 2.32242400e+06 2.21175800e+06 1.77160900e+06\n",
            " 2.67204500e+06 3.74550800e+06 4.90950300e+06 3.92547800e+06\n",
            " 2.29661600e+06 2.41551300e+06 3.00658000e+06 3.82971400e+06\n",
            " 5.37032500e+06 9.38869900e+06 1.21554050e+07 1.73386310e+07\n",
            " 2.26670950e+07 1.72760950e+07 1.91546370e+07 2.26072440e+07\n",
            " 1.80693770e+07 1.62753190e+07 1.26247900e+07 1.36779240e+07\n",
            " 1.45543570e+07 1.35323260e+07 1.14677720e+07 1.72974880e+07\n",
            " 1.88309730e+07 8.77933300e+06 5.40363800e+06 3.82825400e+06\n",
            " 2.83916600e+06 2.58608400e+06 3.81585200e+06 2.18990170e+07\n",
            " 3.43114890e+07 5.37543950e+07 8.55504120e+07 8.09312490e+07\n",
            " 9.31987090e+07 8.38332130e+07 8.59316585e+08 1.66993359e+09\n",
            " 9.34399781e+08 1.17119266e+08 3.09055420e+07 1.47978530e+07\n",
            " 4.14141400e+06 3.46833300e+06 4.10501000e+06 3.46392300e+06\n",
            " 1.35844100e+06 3.58703100e+06 2.21592740e+07 3.30546740e+07\n",
            " 2.44230720e+07 1.27855200e+07 3.03233800e+06 5.60502200e+06\n",
            " 7.02647200e+06 6.90430900e+06 6.90367900e+06 4.53421100e+06\n",
            " 4.70089300e+06 3.83733100e+06 1.44428780e+07 4.39543050e+07\n",
            " 7.35506916e+09 9.93515373e+09 3.08300104e+09 5.27437926e+08\n",
            " 6.12943500e+07 7.19186300e+06 4.74390900e+06 1.34262670e+07\n",
            " 1.26586410e+07 5.56069100e+06 4.86653900e+06 3.70398500e+06\n",
            " 5.45624300e+06 1.30336310e+07 1.11149310e+07 8.10598800e+06\n",
            " 8.86864400e+06 1.69250070e+07 2.60024540e+07 4.04834290e+07\n",
            " 6.10117380e+07 3.81780830e+07 1.85961970e+07 1.36722970e+07\n",
            " 8.42859900e+06 1.12202600e+07 1.61473480e+07 1.71887270e+07\n",
            " 1.92294510e+07 1.50005300e+07 8.69658500e+06 3.42882520e+07\n",
            " 4.46524125e+09 6.40655020e+09 2.19692397e+09 2.56060962e+08\n",
            " 3.31822730e+07 8.25225500e+06 2.90580900e+06 1.67624800e+06\n",
            " 2.09230400e+06 3.54332500e+06 2.65986110e+07 3.78522970e+07\n",
            " 3.81900710e+07 3.71048960e+07 3.58254160e+07 2.62631350e+07\n",
            " 3.69354600e+06 1.02799300e+06 7.79662000e+05 2.27323000e+06\n",
            " 2.08220900e+06 6.65153000e+05 1.49740500e+06 4.46709000e+06\n",
            " 1.08984650e+07 1.55928550e+07 1.26545850e+07 1.25883110e+07\n",
            " 6.58734010e+07 1.70533756e+09 1.81058742e+09 1.72062503e+08\n",
            " 1.02896380e+07 1.96416400e+06 7.35900000e+05 2.63490000e+05\n",
            " 1.91906000e+05 1.39499000e+05 1.66679000e+05 8.76829000e+05\n",
            " 1.80269700e+06 8.19993300e+06 9.05675800e+06 7.92091900e+06\n",
            " 7.60584500e+06 1.07219350e+07 1.87044560e+07 2.23498000e+07\n",
            " 2.06019210e+07 9.74121700e+06 1.25972080e+07 2.09780660e+07\n",
            " 3.09949950e+07 2.71474310e+07 3.81165370e+07 9.62678795e+08\n",
            " 1.23023434e+09 3.13404249e+08 1.70386900e+07 3.07731100e+06\n",
            " 8.38114000e+05 8.63785000e+05 4.94188000e+05 4.08847000e+05\n",
            " 2.23710000e+05 1.62914000e+05 1.63954000e+05 5.92193000e+05\n",
            " 1.15180700e+06 2.96055700e+06 3.85111100e+06 2.75029700e+06\n",
            " 2.49686500e+06 1.93402900e+06 1.65163500e+06 1.42896100e+06\n",
            " 1.72123000e+06 1.95176600e+06 9.39666000e+05 5.11959000e+05\n",
            " 5.10237900e+06 3.73107451e+08 7.77810749e+08 4.70642228e+08\n",
            " 6.59293170e+07 5.31140300e+06 6.19931000e+05 2.83311000e+05\n",
            " 2.87603000e+05 4.97493000e+05 5.83337000e+05 5.24887000e+05\n",
            " 1.51245900e+06 1.81092400e+06 1.42864400e+06 1.43761400e+06\n",
            " 1.18445100e+06 1.18720300e+06 8.30697000e+05 1.33141200e+06\n",
            " 1.68608900e+06 1.32840400e+06 1.36912700e+06 1.06668100e+06\n",
            " 1.13387900e+06 1.07966700e+06 2.81009400e+06 4.86159900e+06\n",
            " 6.53237100e+06 5.67530320e+07 7.34126092e+08 7.46387543e+08\n",
            " 7.08568110e+07 6.53263100e+06 9.96084000e+05 5.41316000e+05\n",
            " 3.07277000e+05 3.79754000e+05 8.00938000e+05 3.84418000e+06\n",
            " 4.23993000e+06 1.97140500e+06 3.07217600e+06 4.41977600e+06\n",
            " 6.68596400e+06 7.71342200e+06 1.05799510e+07 2.39607030e+07\n",
            " 3.69947760e+07 3.13483830e+07 2.63153150e+07 3.77171560e+07\n",
            " 6.22725140e+07 1.34947247e+08 1.48132970e+09 1.83133885e+09\n",
            " 4.67787521e+08 2.55040310e+07 3.59818700e+06 9.55928000e+05\n",
            " 5.75057000e+05 5.09296000e+05 3.30310000e+05 4.20877000e+05\n",
            " 4.05763000e+05 1.88439000e+05 5.93562000e+05 1.42441400e+06\n",
            " 2.91801700e+06 4.34874800e+06 4.20806400e+06 6.11796100e+06\n",
            " 7.76301600e+06 6.13669100e+06 7.06649100e+06 6.77277200e+06\n",
            " 5.48193400e+06 1.15226000e+07 1.80100260e+07 1.93948230e+07\n",
            " 1.96100780e+07 3.77130140e+07 3.63127637e+08 6.95016942e+08\n",
            " 3.91625438e+08 4.51703660e+07 1.46593040e+07 2.04440800e+06\n",
            " 1.16845800e+06 6.87385300e+06 1.11975710e+07 9.12769900e+06\n",
            " 4.84836200e+06 8.98315000e+05 4.57080000e+05 5.33997000e+05\n",
            " 8.70157000e+05 1.14439400e+06 1.41843900e+06 4.99934300e+06\n",
            " 7.85577900e+06 7.54643200e+06 8.10461400e+06 7.03292200e+06\n",
            " 4.01145300e+06 3.65699600e+06 6.54636300e+06 8.84568580e+07\n",
            " 5.57814371e+08 5.27066122e+08 5.77941190e+07 5.08485300e+06\n",
            " 1.40662100e+06 8.16711000e+05 8.65959000e+05 1.44903260e+07\n",
            " 2.28314550e+07 3.48384080e+07 3.18415940e+07 9.55983200e+06\n",
            " 5.37646800e+06 5.20177900e+06 4.21278500e+06 1.71220200e+06\n",
            " 1.48482600e+06 9.10062000e+05 1.24337700e+06 1.07326600e+06\n",
            " 5.52003000e+05 6.44485000e+05 6.20978000e+05 3.92261000e+05\n",
            " 4.37614000e+05 4.32587000e+05 4.03192000e+05 3.76202000e+05\n",
            " 5.31537000e+05 1.89223800e+06 1.19324268e+08 3.25373444e+08\n",
            " 2.39349971e+08 3.74092890e+07 6.06963700e+06 6.27513000e+05\n",
            " 4.20961000e+05 2.31715200e+06 2.77663000e+06 1.35631000e+06\n",
            " 1.97842500e+06 1.84598400e+06 1.37987200e+06 1.48190900e+06\n",
            " 1.42439900e+06 1.14858600e+06 1.30555200e+06 1.41111900e+06\n",
            " 8.04842000e+05 4.29214000e+05 2.73568000e+05 4.99366000e+05\n",
            " 4.48392000e+05 2.30963000e+05 3.84573000e+05 1.48789200e+06\n",
            " 2.34634100e+06 1.28959920e+07 1.66348210e+07 1.34157750e+07\n",
            " 9.98622400e+06 6.34118200e+06 9.18145000e+06 1.92301050e+07\n",
            " 1.73237540e+07 2.20878010e+07 2.53212410e+07 1.42398290e+07\n",
            " 1.27687760e+07 1.55348960e+07 3.00970150e+07 2.17311580e+07\n",
            " 1.52985160e+07 1.74949320e+07 5.97924300e+06 1.13893000e+06\n",
            " 1.06997300e+06 1.02525600e+06 1.19858400e+06 1.31036800e+06\n",
            " 7.76711000e+05 5.05368000e+05 6.75797000e+05 8.97523000e+05\n",
            " 1.31470000e+06 1.89960400e+06 2.12458100e+06 1.44219700e+06\n",
            " 9.02732000e+05 1.48938400e+06 3.10164500e+06 4.19412100e+06\n",
            " 2.56188200e+06 9.37379000e+05 1.34349200e+06 1.81914000e+06\n",
            " 1.89451300e+06 1.82476200e+06 7.02505100e+06 9.83264000e+06\n",
            " 1.00740200e+07 9.64228200e+06 5.34911600e+06 3.38480100e+06\n",
            " 2.22526200e+06 1.61613800e+06 1.03879000e+06 9.47722000e+05\n",
            " 7.22369000e+05 5.56131000e+05 4.94283000e+05 7.02220000e+05\n",
            " 1.41288000e+06 1.66343400e+06 1.04842800e+06 8.59636000e+05\n",
            " 1.15290500e+06 3.20334300e+06 3.00649700e+06 2.43171800e+06\n",
            " 2.99494000e+06 2.89759200e+06 3.04863500e+06 1.36355700e+06\n",
            " 1.55408500e+06 4.46890800e+06 3.79709000e+06 1.20161900e+06\n",
            " 2.13171000e+06 2.64716300e+06 1.31816570e+07 1.98023470e+07\n",
            " 1.62849020e+07 1.69340490e+07 2.99588550e+07 4.02836780e+07\n",
            " 2.93981170e+07 3.51076480e+07 2.89831460e+07 1.36664180e+07\n",
            " 1.83835960e+07 1.51599810e+07 9.49438900e+06 5.36260000e+06\n",
            " 3.44204500e+06 2.77855100e+06 3.05645700e+06 5.81599259e+06]\n"
          ]
        }
      ]
    },
    {
      "cell_type": "code",
      "source": [
        "plt.plot(energy)"
      ],
      "metadata": {
        "colab": {
          "base_uri": "https://localhost:8080/",
          "height": 294
        },
        "id": "lsSJT_XDYtKy",
        "outputId": "a2f012dc-cf47-45c3-9da1-79738ca95b46"
      },
      "execution_count": null,
      "outputs": [
        {
          "output_type": "execute_result",
          "data": {
            "text/plain": [
              "[<matplotlib.lines.Line2D at 0x7f16a3e69b20>]"
            ]
          },
          "metadata": {},
          "execution_count": 139
        },
        {
          "output_type": "display_data",
          "data": {
            "text/plain": [
              "<Figure size 432x288 with 1 Axes>"
            ],
            "image/png": "[encoded data removed]"
          },
          "metadata": {
            "needs_background": "light"
          }
        }
      ]
    },
    {
      "cell_type": "markdown",
      "source": [
        "# Zero Crossing\n"
      ],
      "metadata": {
        "id": "uDV-CeSqYAYQ"
      }
    },
    {
      "cell_type": "code",
      "source": [
        "def zeroCrossing(frm):\n",
        "    m = 0\n",
        "    for i in range(1,frm.size):\n",
        "        if (frm[i]*frm[i-1]) <=0:\n",
        "            m += 1\n",
        "    return m"
      ],
      "metadata": {
        "id": "3jMYlhT2TbbG"
      },
      "execution_count": null,
      "outputs": []
    },
    {
      "cell_type": "code",
      "source": [
        "zeroCross = np.zeros(framing_matrix.shape[0])\n",
        "for i in range(framing_matrix.shape[0]):\n",
        "    zeroCross[i] = zeroCrossing(framing_matrix[i])\n",
        "print(zeroCross)"
      ],
      "metadata": {
        "id": "BLeF1irJSv06",
        "colab": {
          "base_uri": "https://localhost:8080/"
        },
        "outputId": "40ce72db-699c-4342-bd29-a8be81985994"
      },
      "execution_count": null,
      "outputs": [
        {
          "output_type": "stream",
          "name": "stdout",
          "text": [
            "[637. 627. 599. 561. 536. 497. 352. 230. 284. 387. 342. 254. 212. 153.\n",
            "  86.  45.  33.  34.  23.  37.  57.  32.  28.  37.  37.  32.  52.  43.\n",
            "  22.  33.  33.  34.  42.  44.  47.  52.  47.  43.  52.  58.  38.  36.\n",
            "  38.  34.  37.  38.  42.  48.  45.  43.  43.  40.  44.  41.  37.  31.\n",
            "  30.  26.  23.  24.  19.  24.  22.  19.  33.  31.  20.  21.  19.  20.\n",
            "  24.  13.  10.  26.  27.  33.  45.  34.  20.   8.   1.   1.   3.   3.\n",
            "   1.  10.  23.  43.  40.  27.  23.  27.  34.  28.  32.  33.  35.  29.\n",
            "  12.   5.   8.  21.  36.  26.  19.  27.  25.  29.  32.  23.  23.  26.\n",
            "  40.  50.  41.  36.  40.  42.  34.  13.  21.  37.  32.  30.  33.  21.\n",
            "  22.  28.  18.  11.   6.   7.   3.   8.   8.  21.  21.  19.  29.  17.\n",
            "   7.  30.  39.  32.  45.  45.  48.  58.  60.  59.  56.  51.  53.  32.\n",
            "   5.   1.   1.   1.   1.   6.  23.  70.  86.  50.  43.  57.  44.  21.\n",
            "  12.  16.  22.  29.  46.  61.  60.  77.  84.  55.  53.  75.  96.  88.\n",
            "  75.  54.  29.  15.   8.   8.  15.  15.   1.   1.   8.  19.  17.   9.\n",
            "   3.   8.  24.  45.  50.  49.  48.  52.  50.  46.  48.  52.  77.  74.\n",
            "  80.  56.  30.  40.  27.  21.  23.  34.  29.  20.  33.  50.  50.  50.\n",
            "  53.  50.  60.  57.  56.  76.  92.  79.  63.  57.  45.  48.  29.   5.\n",
            "  24.  51.  56.  45.  50.  47.  36.  40.  38.  41.  44.  53.  37.  24.\n",
            "  42.  51.  52.  46.  55.  63.  58.  67.  74.  70.  52.  20.   4.   8.\n",
            "  14.  16.  19.  11.   3.   6.   5.   3.   4.   1.   6.  33.  65.  58.\n",
            "  54.  62.  55.  80.  72.  56.  74.  56.  46.  70.  64.  40.  27.  23.\n",
            "  29.  19.  14.  22.  27.  28.  25.  20.  15.   5.   3.  10.  33.  51.\n",
            "  45.  28.  16.  14.  36.  30.   6.   6.  19.  38.  45.  31.  28.  40.\n",
            "  36.  31.  21.  27.  26.  23.  27.  28.  37.  47.  56.  58.  62.  56.\n",
            "  53.  48.  35.  22.   4.   4.   3.   3.   2.   7.  16.  15.  16.  29.\n",
            "  29.  27.  53.  70.  54.  60.  83.  70.  69.  82.  67.  65.  66.  56.\n",
            "  53.  49.  52.  59.  47.  18.  19.  26.   7.  10.  36.  42.  23.  27.\n",
            "  43.  38.  38.  51.  48.  30.  46.  72.  57.  21.  11.  11.   4.   6.\n",
            "   9.   7.   7.   7.   2.   2.   3.   3.  13.  13.   0.   8.   8.  11.\n",
            "  34.  40.  24.  36.  39.  25.  34.  46.  36.  46.  42.  18.  19.  44.\n",
            "  64.  32.  14.   8.  24.  49.  39.  36.  39.  36.  19.  10.  10.  11.\n",
            "  17.  16.  28.  44.  49.  46.  39.  41.  55.  40.  36.  46.  31.  33.\n",
            "  31.  16.  26.  19.   3.   7.  17.  44.  39.   8.   8.  29.  32.  27.\n",
            "  21.  14.  15.  23.  25.  25.  30.  18.  38.  44.  21.  20.  22.  24.\n",
            "  20.  12.  14.  12.]\n"
          ]
        }
      ]
    },
    {
      "cell_type": "code",
      "source": [
        "plt.plot(zeroCross)"
      ],
      "metadata": {
        "colab": {
          "base_uri": "https://localhost:8080/",
          "height": 283
        },
        "id": "ZT5rObAZTC8z",
        "outputId": "50847fa5-1d07-4d6d-a972-5351c6f09545"
      },
      "execution_count": null,
      "outputs": [
        {
          "output_type": "execute_result",
          "data": {
            "text/plain": [
              "[<matplotlib.lines.Line2D at 0x7f16a3828fd0>]"
            ]
          },
          "metadata": {},
          "execution_count": 142
        },
        {
          "output_type": "display_data",
          "data": {
            "text/plain": [
              "<Figure size 432x288 with 1 Axes>"
            ],
            "image/png": "[encoded data removed]"
          },
          "metadata": {
            "needs_background": "light"
          }
        }
      ]
    }
  ]
}